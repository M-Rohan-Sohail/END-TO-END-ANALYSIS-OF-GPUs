{
 "cells": [
  {
   "cell_type": "markdown",
   "id": "1409091b",
   "metadata": {},
   "source": [
    "PROJECT TITLE: END TO END ANALYSIS ON GPUS "
   ]
  },
  {
   "cell_type": "markdown",
   "id": "a5ece58f",
   "metadata": {},
   "source": [
    "Introduction"
   ]
  },
  {
   "cell_type": "markdown",
   "id": "1ba58127",
   "metadata": {},
   "source": [
    "In this Project we will do end to end Data Analysis on GPU's which were released till 2025. This Data Set is Picked up from kaggle link is https://www.kaggle.com/datasets/alanjo/graphics-card-full-specs?resource=download&select=gpu_specs_v7.csv"
   ]
  },
  {
   "cell_type": "markdown",
   "id": "389c3747",
   "metadata": {},
   "source": [
    "KEY COLUMNS  \n",
    "1. Manufacturer   \n",
    "2. Release Year\n",
    "3. Memory Size\n",
    "4. Memory BusWidth\n",
    "5. GPU CLOCK\n",
    "6. MEMORY CLOCK  \n",
    "7. UnifiedShader  \n",
    "8. Tmu  \n",
    "9. Rop  \n",
    "10. PixelShader  \n",
    "11. VertexShader \n",
    "12. Igp  \n",
    "13. Bus  \n",
    "14. Memory Type  \n",
    "15. GPU Chip  "
   ]
  },
  {
   "cell_type": "markdown",
   "id": "5e414811",
   "metadata": {},
   "source": [
    "OUR OBJECTIVE IS TO ANSWER THE FOLLOWING QUESTIONS    \n",
    "\n",
    "\n",
    "1.Which GPU manufacturer provides the highest average performance tier?   \n",
    "\n",
    "2.How has GPU memory size (VRAM) changed over the years?     \n",
    "\n",
    "3.What is the distribution of performance tiers across all GPUs?    \n",
    "\n",
    "4.Which manufacturers dominate the high-performance segment?  \n",
    "\n",
    "5.Which year had the most GPU launches?  \n",
    "\n",
    "6.Are newer GPUs always better in terms of performance and memory?  \n",
    "\n",
    "7.Which GPU chips are most commonly used across different manufacturers?  "
   ]
  },
  {
   "cell_type": "markdown",
   "id": "33eaf936",
   "metadata": {},
   "source": [
    "  \n",
    "IMPORTING LIB's"
   ]
  },
  {
   "cell_type": "code",
   "execution_count": null,
   "id": "d00e1e60",
   "metadata": {},
   "outputs": [],
   "source": [
    "import pandas as pd\n",
    "from matplotlib import pyplot as plt\n"
   ]
  },
  {
   "cell_type": "markdown",
   "id": "33f5ad1d",
   "metadata": {},
   "source": [
    "LOADING CSV"
   ]
  },
  {
   "cell_type": "code",
   "execution_count": 2,
   "id": "b1fc0f9d",
   "metadata": {},
   "outputs": [],
   "source": [
    "df=pd.read_csv(\"gpu_v7.csv\")"
   ]
  },
  {
   "cell_type": "markdown",
   "id": "4d55e2a7",
   "metadata": {},
   "source": [
    "BEFORE ANSWERING THE QUESTIONS WE WILL CLEAN IT "
   ]
  },
  {
   "cell_type": "markdown",
   "id": "7e44e973",
   "metadata": {},
   "source": [
    "PERFORMING EDA AND ETL"
   ]
  },
  {
   "cell_type": "code",
   "execution_count": 4,
   "id": "99e42585",
   "metadata": {},
   "outputs": [
    {
     "name": "stdout",
     "output_type": "stream",
     "text": [
      "  manufacturer              productName  releaseYear  memSize  memBusWidth  \\\n",
      "0       NVIDIA         GeForce RTX 5090       2025.0     28.0        448.0   \n",
      "1       NVIDIA         GeForce RTX 5080       2025.0     16.0        256.0   \n",
      "2       NVIDIA         GeForce RTX 5070       2025.0     12.0        192.0   \n",
      "3       NVIDIA  GeForce RTX 5060 Mobile       2025.0      8.0        128.0   \n",
      "4       NVIDIA         GeForce RTX 5060       2025.0      8.0        128.0   \n",
      "\n",
      "   gpuClock  memClock  unifiedShader  tmu  rop  pixelShader  vertexShader igp  \\\n",
      "0       900    1200.0         8192.0  256  128          NaN           NaN  No   \n",
      "1       900    1215.0         6912.0  432  192          NaN           NaN  No   \n",
      "2      1825    2000.0         5120.0  320  128          NaN           NaN  No   \n",
      "3      2235    2500.0         4608.0  144   48          NaN           NaN  No   \n",
      "4      1825    2250.0         4608.0  288  192          NaN           NaN  No   \n",
      "\n",
      "            bus memType       gpuChip  \n",
      "0  PCIe 4.0 x16   HBM2e  Arctic Sound  \n",
      "1  PCIe 4.0 x16   HBM2e         GA100  \n",
      "2  PCIe 4.0 x16   GDDR6       Navi 21  \n",
      "3  PCIe 5.0 x16   GDDR7         GB206  \n",
      "4  PCIe 4.0 x16   GDDR6       Navi 31  \n"
     ]
    }
   ],
   "source": [
    "print(df.head())"
   ]
  },
  {
   "cell_type": "code",
   "execution_count": 3,
   "id": "0714e26b",
   "metadata": {},
   "outputs": [
    {
     "name": "stdout",
     "output_type": "stream",
     "text": [
      "<class 'pandas.core.frame.DataFrame'>\n",
      "RangeIndex: 3056 entries, 0 to 3055\n",
      "Data columns (total 16 columns):\n",
      " #   Column         Non-Null Count  Dtype  \n",
      "---  ------         --------------  -----  \n",
      " 0   manufacturer   3056 non-null   object \n",
      " 1   productName    3056 non-null   object \n",
      " 2   releaseYear    3012 non-null   float64\n",
      " 3   memSize        2615 non-null   float64\n",
      " 4   memBusWidth    188 non-null    float64\n",
      " 5   gpuClock       3056 non-null   int64  \n",
      " 6   memClock       2615 non-null   float64\n",
      " 7   unifiedShader  2232 non-null   float64\n",
      " 8   tmu            3056 non-null   int64  \n",
      " 9   rop            3056 non-null   int64  \n",
      " 10  pixelShader    824 non-null    float64\n",
      " 11  vertexShader   824 non-null    float64\n",
      " 12  igp            3056 non-null   object \n",
      " 13  bus            3056 non-null   object \n",
      " 14  memType        2615 non-null   object \n",
      " 15  gpuChip        3056 non-null   object \n",
      "dtypes: float64(7), int64(3), object(6)\n",
      "memory usage: 382.1+ KB\n",
      "None\n"
     ]
    }
   ],
   "source": [
    "print(df.info())"
   ]
  },
  {
   "cell_type": "markdown",
   "id": "dcfe05cf",
   "metadata": {},
   "source": [
    "DROPING DUPLICATES AND CLEANING NAN VALUES"
   ]
  },
  {
   "cell_type": "code",
   "execution_count": 6,
   "id": "01e202d6",
   "metadata": {},
   "outputs": [
    {
     "name": "stdout",
     "output_type": "stream",
     "text": [
      "<class 'pandas.core.frame.DataFrame'>\n",
      "Index: 2733 entries, 0 to 3055\n",
      "Data columns (total 16 columns):\n",
      " #   Column         Non-Null Count  Dtype  \n",
      "---  ------         --------------  -----  \n",
      " 0   manufacturer   2733 non-null   object \n",
      " 1   productName    2733 non-null   object \n",
      " 2   releaseYear    2733 non-null   float64\n",
      " 3   memSize        2733 non-null   float64\n",
      " 4   memBusWidth    2733 non-null   float64\n",
      " 5   gpuClock       2733 non-null   int64  \n",
      " 6   memClock       2733 non-null   float64\n",
      " 7   unifiedShader  2733 non-null   float64\n",
      " 8   tmu            2733 non-null   int64  \n",
      " 9   rop            2733 non-null   int64  \n",
      " 10  pixelShader    2733 non-null   float64\n",
      " 11  vertexShader   2733 non-null   float64\n",
      " 12  igp            2733 non-null   object \n",
      " 13  bus            2733 non-null   object \n",
      " 14  memType        2733 non-null   object \n",
      " 15  gpuChip        2733 non-null   object \n",
      "dtypes: float64(7), int64(3), object(6)\n",
      "memory usage: 363.0+ KB\n",
      "None\n"
     ]
    }
   ],
   "source": [
    "df=df.drop_duplicates(subset=\"productName\")\n",
    "df=df.dropna(axis=0,how=\"all\")\n",
    "df=df.dropna(axis=1,how=\"all\")\n",
    "df=df.fillna(0)\n",
    "print(df.info())"
   ]
  },
  {
   "cell_type": "markdown",
   "id": "9bd87d67",
   "metadata": {},
   "source": [
    "By above code we are able to remove any duplicates and nan columns/rows and filling them with 0"
   ]
  },
  {
   "cell_type": "markdown",
   "id": "90fed843",
   "metadata": {},
   "source": [
    "  \n",
    "\n",
    "\n",
    "Q1.Which GPU manufacturer provides the highest average performance tier?"
   ]
  },
  {
   "cell_type": "code",
   "execution_count": 9,
   "id": "7050ee18",
   "metadata": {},
   "outputs": [
    {
     "name": "stdout",
     "output_type": "stream",
     "text": [
      "manufacturer\n",
      "3dfx      0.024933\n",
      "AMD       5.224708\n",
      "ATI       0.327767\n",
      "Intel     4.802912\n",
      "Matrox    0.117742\n",
      "NVIDIA    5.020683\n",
      "Sony      0.016667\n",
      "XGI       0.217600\n",
      "Name: memSize, dtype: float64\n"
     ]
    }
   ],
   "source": [
    "hap_mfgs=df.groupby(\"manufacturer\")[\"memSize\"].mean()\n",
    "print(hap_mfgs)"
   ]
  },
  {
   "cell_type": "markdown",
   "id": "6ecdc960",
   "metadata": {},
   "source": [
    "The above results clearly shows the the highest average performance is given by AMD GPU's based on VRAM size  \n",
    "\n",
    "Plotting Visuals"
   ]
  },
  {
   "cell_type": "code",
   "execution_count": 13,
   "id": "0be130d7",
   "metadata": {},
   "outputs": [
    {
     "data": {
      "image/png": "[encoded data removed]",
      "text/plain": [
       "<Figure size 1000x500 with 1 Axes>"
      ]
     },
     "metadata": {},
     "output_type": "display_data"
    }
   ],
   "source": [
    "hap_mfgs.plot(kind=\"bar\",figsize=(10,5))\n",
    "plt.title(\"Highest AVG PERFORMANCE PER MFG's\")\n",
    "plt.xlabel(\"Manufacturer\")\n",
    "plt.ylabel(\"VRAM\")\n",
    "plt.tight_layout()\n",
    "plt.show()"
   ]
  },
  {
   "cell_type": "markdown",
   "id": "64098de9",
   "metadata": {},
   "source": [
    " \n",
    "\n",
    "Q2.How has GPU memory size (VRAM) changed over the years?"
   ]
  },
  {
   "cell_type": "code",
   "execution_count": 15,
   "id": "e923a515",
   "metadata": {},
   "outputs": [
    {
     "name": "stdout",
     "output_type": "stream",
     "text": [
      "releaseYear\n",
      "1986.0     0.000048\n",
      "1987.0     0.000192\n",
      "1988.0     0.000256\n",
      "1990.0     0.000384\n",
      "1992.0     0.001143\n",
      "1993.0     0.001000\n",
      "1994.0     0.001000\n",
      "1995.0     0.001875\n",
      "1996.0     0.002875\n",
      "1997.0     0.004875\n",
      "1998.0     0.013300\n",
      "1999.0     0.019700\n",
      "2000.0     0.037200\n",
      "2001.0     0.048900\n",
      "2002.0     0.073867\n",
      "2003.0     0.122252\n",
      "2004.0     0.152602\n",
      "2005.0     0.226076\n",
      "2006.0     0.273627\n",
      "2007.0     0.356449\n",
      "2008.0     0.596267\n",
      "2009.0     0.746880\n",
      "2010.0     1.037313\n",
      "2011.0     1.408571\n",
      "2012.0     1.673445\n",
      "2013.0     2.266905\n",
      "2014.0     2.760136\n",
      "2015.0     3.172596\n",
      "2016.0     5.451451\n",
      "2017.0     5.763134\n",
      "2018.0    10.200000\n",
      "2019.0     6.660112\n",
      "2020.0    10.417722\n",
      "2021.0    14.894737\n",
      "2022.0    12.466667\n",
      "2023.0    23.958763\n",
      "2024.0    28.380952\n",
      "2025.0    13.333333\n",
      "Name: memSize, dtype: float64\n"
     ]
    }
   ],
   "source": [
    "nonzeroyears=df.query(\"releaseYear !=0\")\n",
    "gms_per_year=nonzeroyears.groupby(\"releaseYear\")[\"memSize\"].mean()\n",
    "print(gms_per_year)"
   ]
  },
  {
   "cell_type": "markdown",
   "id": "27efdfb1",
   "metadata": {},
   "source": [
    "Plotting Bar Chart To conclude Results"
   ]
  },
  {
   "cell_type": "code",
   "execution_count": 16,
   "id": "afcc7c41",
   "metadata": {},
   "outputs": [
    {
     "data": {
      "image/png": "[encoded data removed]",
      "text/plain": [
       "<Figure size 1500x500 with 1 Axes>"
      ]
     },
     "metadata": {},
     "output_type": "display_data"
    }
   ],
   "source": [
    "gms_per_year.plot(kind=\"bar\",figsize=(15,5))\n",
    "plt.title(\"VRAM TREND\")\n",
    "plt.xlabel(\"Release Year\")\n",
    "plt.ylabel(\"AVG VRAM\")\n",
    "plt.tight_layout()\n",
    "plt.show()"
   ]
  },
  {
   "cell_type": "markdown",
   "id": "7900a80f",
   "metadata": {},
   "source": [
    "The Above Bar Chart Clearly Shows That the rise of VRAM in each Year   \n",
    "In 2024 massive VRAM GPU's Where released"
   ]
  },
  {
   "cell_type": "markdown",
   "id": "50910e31",
   "metadata": {},
   "source": [
    "Q3.What is the distribution of performance tiers across all GPUs?"
   ]
  },
  {
   "cell_type": "markdown",
   "id": "bc8c62a5",
   "metadata": {},
   "source": [
    "For this We will use visuals "
   ]
  },
  {
   "cell_type": "code",
   "execution_count": 18,
   "id": "9d3410b6",
   "metadata": {},
   "outputs": [
    {
     "name": "stdout",
     "output_type": "stream",
     "text": [
      "memSize  Performance Tier\n",
      "0.512    Display Card        256\n",
      "0.640    Display Card          2\n",
      "0.768    Display Card          7\n",
      "0.896    Display Card          7\n",
      "1.024    Entry Level         344\n",
      "1.280    Entry Level           7\n",
      "1.536    Entry Level          26\n",
      "1.792    Entry Level           3\n",
      "2.000    Entry Level         299\n",
      "2.500    Entry Level           2\n",
      "3.000    Entry Level          42\n",
      "3.750    Mid End               1\n",
      "4.000    Mid End             214\n",
      "5.000    Mid End               7\n",
      "6.000    Mid End              73\n",
      "8.000    High End            187\n",
      "10.000   High End              8\n",
      "11.000   High End              2\n",
      "12.000   Ultra                46\n",
      "16.000   Ultra                86\n",
      "20.000   Extreme               5\n",
      "24.000   Elite                25\n",
      "28.000   Elite                 1\n",
      "32.000   Elite                22\n",
      "40.000   Elite                 3\n",
      "48.000   Elite                13\n",
      "64.000   Elite                 3\n",
      "80.000   Elite                 9\n",
      "96.000   Elite                 4\n",
      "128.000  Elite                 5\n",
      "192.000  Elite                 1\n",
      "288.000  Elite                 1\n",
      "dtype: int64\n"
     ]
    }
   ],
   "source": [
    "df[\"Performance Tier\"]=df[\"memSize\"].apply(lambda x: \"Display Card\" if x<1 else(\"Entry Level\" if x<=3 else(\"Mid End\" if x<=6 else(\"High End\" if x<=11 else(\"Ultra\" if x<=16 else(\"Extreme\" if x<=20 else \"Elite\"))))))\n",
    "\n",
    "filtermemsize=df.query(\"memSize>=0.5\")\n",
    "pt_ms=filtermemsize.groupby([\"memSize\",\"Performance Tier\"]).size()\n",
    "print(pt_ms)"
   ]
  },
  {
   "cell_type": "code",
   "execution_count": 19,
   "id": "f103972f",
   "metadata": {},
   "outputs": [
    {
     "data": {
      "image/png": "[encoded data removed]",
      "text/plain": [
       "<Figure size 1500x500 with 1 Axes>"
      ]
     },
     "metadata": {},
     "output_type": "display_data"
    }
   ],
   "source": [
    "pt_ms.plot(kind=\"bar\",figsize=(15,5))\n",
    "plt.title(\"Memory Size Vs Performance Tier\")\n",
    "plt.xlabel(\"Memory Size (GB)\")\n",
    "plt.ylabel(\"Tier\")\n",
    "plt.tight_layout()\n",
    "plt.show()"
   ]
  },
  {
   "cell_type": "markdown",
   "id": "19a3e9da",
   "metadata": {},
   "source": [
    "This Shows That the ELITE class GPUS are very less and non common while 1GB GPU where made in massive amount"
   ]
  },
  {
   "cell_type": "markdown",
   "id": "5495c558",
   "metadata": {},
   "source": [
    "Q4.Which manufacturers dominate the high-performance segment?"
   ]
  },
  {
   "cell_type": "code",
   "execution_count": 22,
   "id": "20dfa304",
   "metadata": {},
   "outputs": [
    {
     "name": "stdout",
     "output_type": "stream",
     "text": [
      "manufacturer\n",
      "AMD       8.068966\n",
      "Intel     8.000000\n",
      "NVIDIA    8.161616\n",
      "Name: memSize, dtype: float64\n"
     ]
    }
   ],
   "source": [
    "Highper_GPUS=df.query(\"memSize>=8 and memSize<=11\")\n",
    "Highper_GPUS_=Highper_GPUS.groupby(\"manufacturer\")[\"memSize\"].mean()\n",
    "print(Highper_GPUS_)"
   ]
  },
  {
   "cell_type": "markdown",
   "id": "3c0212ab",
   "metadata": {},
   "source": [
    "The Above Results Shows that Nvidia Dominates in High Tier Performance i.e VRAM >=8Gb and <=11GB"
   ]
  },
  {
   "cell_type": "markdown",
   "id": "69dbcb70",
   "metadata": {},
   "source": [
    "Which year had the most GPU launches?"
   ]
  },
  {
   "cell_type": "code",
   "execution_count": 23,
   "id": "d3b9fc9e",
   "metadata": {},
   "outputs": [],
   "source": [
    "filternonzeros=df.query(\"releaseYear !=0\")\n",
    "gpu_per_year=filternonzeros.groupby(\"releaseYear\").size()\n"
   ]
  },
  {
   "cell_type": "code",
   "execution_count": 24,
   "id": "893dbd4e",
   "metadata": {},
   "outputs": [
    {
     "data": {
      "image/png": "[encoded data removed]",
      "text/plain": [
       "<Figure size 1500x500 with 1 Axes>"
      ]
     },
     "metadata": {},
     "output_type": "display_data"
    }
   ],
   "source": [
    "gpu_per_year.plot(kind=\"bar\",figsize=(15,5))\n",
    "plt.title(\"GPU RELEASED PER YEAR\")\n",
    "plt.xlabel(\"Year\")\n",
    "plt.ylabel(\"Counts\")\n",
    "plt.tight_layout()\n",
    "plt.show()"
   ]
  },
  {
   "cell_type": "markdown",
   "id": "c3d8facb",
   "metadata": {},
   "source": [
    "The Above Results Clearly Shows That in Year 2013 massive amount of GPU's were released about 250+"
   ]
  },
  {
   "cell_type": "markdown",
   "id": "cf8a3606",
   "metadata": {},
   "source": [
    "Q6.Are newer GPUs always better in terms of performance and memory?"
   ]
  },
  {
   "cell_type": "markdown",
   "id": "55a6db48",
   "metadata": {},
   "source": [
    "For this Purpose We will take GPU's with 5 Years Gap and Analyze it  \n",
    "\n",
    "Starting From 2010-2015"
   ]
  },
  {
   "cell_type": "code",
   "execution_count": 25,
   "id": "3976e002",
   "metadata": {},
   "outputs": [
    {
     "name": "stdout",
     "output_type": "stream",
     "text": [
      "    manufacturer       productName  releaseYear  memSize  memBusWidth  \\\n",
      "816          AMD    Radeon R9 Nano       2015.0      4.0          0.0   \n",
      "817          AMD  Radeon R9 FURY X       2015.0      4.0          0.0   \n",
      "818          AMD    Radeon R9 FURY       2015.0      4.0          0.0   \n",
      "819          AMD    Radeon R9 390X       2015.0      8.0          0.0   \n",
      "820          AMD  Radeon R9 390 X2       2015.0      8.0          0.0   \n",
      "\n",
      "     gpuClock  memClock  unifiedShader  tmu  rop  pixelShader  vertexShader  \\\n",
      "816      1557    1376.0         3200.0  200   80          0.0           0.0   \n",
      "817      1900    2250.0         3072.0  192   96          0.0           0.0   \n",
      "818      1830    2125.0         3072.0   96   48          0.0           0.0   \n",
      "819      1620    2000.0         2816.0   88   48          0.0           0.0   \n",
      "820      1000    1753.0         2816.0  176   96          0.0           0.0   \n",
      "\n",
      "    igp           bus memType  gpuChip Performance Tier  \n",
      "816  No  PCIe 3.0 x16  GDDR5X    GP102          Mid End  \n",
      "817  No  PCIe 4.0 x16   GDDR6  Navi 32          Mid End  \n",
      "818  No   PCIe 4.0 x8   GDDR6    AD106          Mid End  \n",
      "819  No   PCIe 4.0 x8   GDDR6    AD107         High End  \n",
      "820  No  PCIe 3.0 x16   GDDR5    GM200         High End  \n"
     ]
    }
   ],
   "source": [
    "GPUS_Till_2015=df.query(\"releaseYear >2009 and releaseYear<2016\")\n",
    "print(GPUS_Till_2015.head(5))"
   ]
  },
  {
   "cell_type": "markdown",
   "id": "9dc54ee0",
   "metadata": {},
   "source": [
    "2015->2020"
   ]
  },
  {
   "cell_type": "code",
   "execution_count": 26,
   "id": "6fc32e92",
   "metadata": {},
   "outputs": [
    {
     "name": "stdout",
     "output_type": "stream",
     "text": [
      "    manufacturer      productName  releaseYear  memSize  memBusWidth  \\\n",
      "313       NVIDIA       GRID A100B       2020.0     48.0          0.0   \n",
      "314       NVIDIA       GRID A100A       2020.0     48.0          0.0   \n",
      "315       NVIDIA  A100 SXM4 80 GB       2020.0     80.0          0.0   \n",
      "316       NVIDIA  A100 SXM4 40 GB       2020.0     40.0          0.0   \n",
      "317       NVIDIA        A100 PCIe       2020.0     40.0          0.0   \n",
      "\n",
      "     gpuClock  memClock  unifiedShader  tmu  rop  pixelShader  vertexShader  \\\n",
      "313      1303    1808.0         3840.0  240   96          0.0           0.0   \n",
      "314      1025    1808.0         3840.0  240   96          0.0           0.0   \n",
      "315       817    1500.0         3840.0  120   48          0.0           0.0   \n",
      "316      1405    1426.0         3840.0  240   96          0.0           0.0   \n",
      "317      1506    1127.0         3840.0  240   96          0.0           0.0   \n",
      "\n",
      "    igp           bus memType gpuChip Performance Tier  \n",
      "313  No  PCIe 3.0 x16  GDDR5X   GP102            Elite  \n",
      "314  No  PCIe 3.0 x16  GDDR5X   GP102            Elite  \n",
      "315  No  PCIe 4.0 x16   GDDR6   GA106            Elite  \n",
      "316  No  PCIe 3.0 x16  GDDR5X   GP102            Elite  \n",
      "317  No  PCIe 3.0 x16  GDDR5X   GP102            Elite  \n"
     ]
    }
   ],
   "source": [
    "GPUS_Till_2020=df.query(\"releaseYear >2015 and releaseYear<2021\")\n",
    "print(GPUS_Till_2020.head(5))"
   ]
  },
  {
   "cell_type": "markdown",
   "id": "8ab59fc2",
   "metadata": {},
   "source": [
    "2020->2025"
   ]
  },
  {
   "cell_type": "code",
   "execution_count": 27,
   "id": "eb48d44a",
   "metadata": {},
   "outputs": [
    {
     "name": "stdout",
     "output_type": "stream",
     "text": [
      "  manufacturer              productName  releaseYear  memSize  memBusWidth  \\\n",
      "0       NVIDIA         GeForce RTX 5090       2025.0     28.0        448.0   \n",
      "1       NVIDIA         GeForce RTX 5080       2025.0     16.0        256.0   \n",
      "2       NVIDIA         GeForce RTX 5070       2025.0     12.0        192.0   \n",
      "3       NVIDIA  GeForce RTX 5060 Mobile       2025.0      8.0        128.0   \n",
      "4       NVIDIA         GeForce RTX 5060       2025.0      8.0        128.0   \n",
      "\n",
      "   gpuClock  memClock  unifiedShader  tmu  rop  pixelShader  vertexShader igp  \\\n",
      "0       900    1200.0         8192.0  256  128          0.0           0.0  No   \n",
      "1       900    1215.0         6912.0  432  192          0.0           0.0  No   \n",
      "2      1825    2000.0         5120.0  320  128          0.0           0.0  No   \n",
      "3      2235    2500.0         4608.0  144   48          0.0           0.0  No   \n",
      "4      1825    2250.0         4608.0  288  192          0.0           0.0  No   \n",
      "\n",
      "            bus memType       gpuChip Performance Tier  \n",
      "0  PCIe 4.0 x16   HBM2e  Arctic Sound            Elite  \n",
      "1  PCIe 4.0 x16   HBM2e         GA100            Ultra  \n",
      "2  PCIe 4.0 x16   GDDR6       Navi 21            Ultra  \n",
      "3  PCIe 5.0 x16   GDDR7         GB206         High End  \n",
      "4  PCIe 4.0 x16   GDDR6       Navi 31         High End  \n"
     ]
    }
   ],
   "source": [
    "GPUS_Till_2025=df.query(\"releaseYear >2020 and releaseYear<=2025\")\n",
    "print(GPUS_Till_2025.head(5))"
   ]
  },
  {
   "cell_type": "markdown",
   "id": "8bb4d0b9",
   "metadata": {},
   "source": [
    "The Above results clearly Shows that gpus after 2020 are Better However the GPUS AFTER 2015 are also Good and Dominant"
   ]
  },
  {
   "cell_type": "markdown",
   "id": "a54c74bc",
   "metadata": {},
   "source": [
    "Q7.Which GPU chips are most commonly used across different manufacturers?"
   ]
  },
  {
   "cell_type": "code",
   "execution_count": 29,
   "id": "65c363c1",
   "metadata": {},
   "outputs": [
    {
     "name": "stdout",
     "output_type": "stream",
     "text": [
      "  manufacturer       gpuChip  Count\n",
      "0         3dfx         GF119     13\n",
      "1          AMD         GK107     24\n",
      "2          ATI         GF108     14\n",
      "3        Intel         RV370      8\n",
      "4       Matrox          R420      3\n",
      "5       NVIDIA         GK104     29\n",
      "6         Sony         TU104      2\n",
      "7          XGI  Braswell GT1      2\n"
     ]
    }
   ],
   "source": [
    "gchips_used_common_mfgs=df.groupby([\"manufacturer\",\"gpuChip\"]).size().reset_index(name='Count')\n",
    "most_common = gchips_used_common_mfgs.sort_values('Count', ascending=False).groupby('manufacturer').first().reset_index()\n",
    "\n",
    "print(most_common)"
   ]
  },
  {
   "cell_type": "markdown",
   "id": "8d174596",
   "metadata": {},
   "source": [
    "The Above Results Shows that AMD AND NVIDIA uses GK108 most commonly"
   ]
  },
  {
   "cell_type": "markdown",
   "id": "62e7adbc",
   "metadata": {},
   "source": [
    "Insights Summary "
   ]
  },
  {
   "cell_type": "markdown",
   "id": "eda968b2",
   "metadata": {},
   "source": [
    "1. MOST GPU's WHERE RELEASED IN 2013  \n",
    "2. INTEL IS IN THE GAME IN SHORT PERIOD OF TIME IT MANUFACTURED ALOT OF GPU's WITH HIGH SPECS \n",
    "3. AMD DOMINATED NVIDIA IN AVERAGE VRAM SIZE  \n",
    "4. THE GPU VRAM ARE INCREASING EVERY YEAR REACHING UPTO 288GB VRAM SIZE   \n",
    "5. MOSTLY GPU'S ARE ENTRY LEVEL I.E 1GB VRAM SIZE"
   ]
  },
  {
   "cell_type": "markdown",
   "id": "51ad5dec",
   "metadata": {},
   "source": [
    "ENDING  "
   ]
  },
  {
   "cell_type": "markdown",
   "id": "a6269165",
   "metadata": {},
   "source": [
    "This analysis gave a good overview of GPU market trends and architecture usage. Future work could involve price-performance analysis, or linking benchmark scores for deeper insight."
   ]
  }
 ],
 "metadata": {
  "kernelspec": {
   "display_name": "Python 3",
   "language": "python",
   "name": "python3"
  },
  "language_info": {
   "codemirror_mode": {
    "name": "ipython",
    "version": 3
   },
   "file_extension": ".py",
   "mimetype": "text/x-python",
   "name": "python",
   "nbconvert_exporter": "python",
   "pygments_lexer": "ipython3",
   "version": "3.10.11"
  }
 },
 "nbformat": 4,
 "nbformat_minor": 5
}
